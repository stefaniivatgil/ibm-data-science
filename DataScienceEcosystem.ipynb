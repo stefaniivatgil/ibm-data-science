{
  "nbformat": 4,
  "nbformat_minor": 0,
  "metadata": {
    "colab": {
      "provenance": []
    },
    "kernelspec": {
      "name": "python3",
      "display_name": "Python 3"
    },
    "language_info": {
      "name": "python"
    }
  },
  "cells": [
    {
      "cell_type": "markdown",
      "source": [
        "# Data Science Tools and Ecosystem"
      ],
      "metadata": {
        "id": "30JdTGfOOFwk"
      }
    },
    {
      "cell_type": "markdown",
      "source": [
        "Data Science Tools and Ecosystem"
      ],
      "metadata": {
        "id": "KXXoBfVyO1Lv"
      }
    },
    {
      "cell_type": "markdown",
      "source": [
        "In this notebook, Data Science Tools and Ecosystem are summarized."
      ],
      "metadata": {
        "id": "QnlSZhWLOd0_"
      }
    },
    {
      "cell_type": "markdown",
      "source": [
        "Some of the popular languages that Data Scientists use are:\n",
        "\n",
        "\n",
        "\n",
        "\n",
        "1.   R\n",
        "2.   Python\n",
        "3.   SQL\n",
        "4.   Java\n",
        "\n",
        "\n",
        "\n",
        "\n",
        "\n",
        "\n",
        "\n"
      ],
      "metadata": {
        "id": "bgAuzKRWO2b6"
      }
    },
    {
      "cell_type": "markdown",
      "source": [
        "Some of the commonly used libraries used by Data Scientists include:\n",
        "\n",
        "\n",
        "1.   numpy\n",
        "2.   pandas\n",
        "3.   scikitlearn\n",
        "4.   Tensorflow\n",
        "\n"
      ],
      "metadata": {
        "id": "mpKs8nFIP_o_"
      }
    },
    {
      "cell_type": "markdown",
      "source": [
        "| Data Science Tools |\n",
        "|----------|\n",
        "| JupyterLab   |\n",
        "| RStudio   |\n",
        "| Anaconda   |\n",
        "\n",
        "\n",
        "\n"
      ],
      "metadata": {
        "id": "5Z5wNpNtRDl2"
      }
    },
    {
      "cell_type": "markdown",
      "source": [
        "### Below are a few examples of evaluating arithmetic expressions in Python"
      ],
      "metadata": {
        "id": "UWSHh6xRR-It"
      }
    },
    {
      "cell_type": "code",
      "source": [
        "(3*4)+5 ##This a simple arithmetic expression to mutiply then add integers"
      ],
      "metadata": {
        "colab": {
          "base_uri": "https://localhost:8080/"
        },
        "id": "8naFm0kDStq1",
        "outputId": "a8eac865-01d8-464c-c2d9-13dc199edb0b"
      },
      "execution_count": 1,
      "outputs": [
        {
          "output_type": "execute_result",
          "data": {
            "text/plain": [
              "17"
            ]
          },
          "metadata": {},
          "execution_count": 1
        }
      ]
    },
    {
      "cell_type": "code",
      "source": [
        "minutes = 200\n",
        "hours = minutes / 60\n",
        "hours\n",
        "##This will convert 200 minutes to hours by diving by 60"
      ],
      "metadata": {
        "colab": {
          "base_uri": "https://localhost:8080/"
        },
        "id": "u_tYxbvqSzwE",
        "outputId": "48801c91-ae95-4c99-e42b-292a32aa6f0d"
      },
      "execution_count": 2,
      "outputs": [
        {
          "output_type": "execute_result",
          "data": {
            "text/plain": [
              "3.3333333333333335"
            ]
          },
          "metadata": {},
          "execution_count": 2
        }
      ]
    },
    {
      "cell_type": "markdown",
      "source": [
        "**Objectives:**\n",
        "\n",
        "\n",
        "*   Introduction to Jupyter notebook\n",
        "*   List popular languages for Data Science\n",
        "*   List popular libraries for Data Science\n",
        "*   Calculaton code addition with comments\n",
        "\n"
      ],
      "metadata": {
        "id": "OS_I41u7TwDs"
      }
    },
    {
      "cell_type": "markdown",
      "source": [
        "## Author : Stefani"
      ],
      "metadata": {
        "id": "Yitn9152Ur9Y"
      }
    }
  ]
}